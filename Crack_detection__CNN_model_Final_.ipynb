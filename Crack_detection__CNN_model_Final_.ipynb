{
  "cells": [
    {
      "cell_type": "code",
      "execution_count": 1,
      "metadata": {
        "id": "t6t2JjlmWCPc"
      },
      "outputs": [],
      "source": [
        "import pandas as pd"
      ]
    },
    {
      "cell_type": "code",
      "execution_count": 2,
      "metadata": {
        "id": "sGf_2ekbaEg1"
      },
      "outputs": [],
      "source": [
        "import torch\n",
        "import torch.nn as nn\n",
        "import torch.nn.functional as F\n",
        "from torchvision import datasets, transforms\n",
        "from torch.utils.data import DataLoader\n",
        "from tqdm import tqdm"
      ]
    },
    {
      "cell_type": "code",
      "execution_count": null,
      "metadata": {
        "colab": {
          "base_uri": "https://localhost:8080/"
        },
        "id": "z7ZNovs9edtj",
        "outputId": "1a3b99ea-7fa9-4d2a-eba9-c31d414605b0"
      },
      "outputs": [
        {
          "name": "stdout",
          "output_type": "stream",
          "text": [
            "Drive already mounted at /content/drive; to attempt to forcibly remount, call drive.mount(\"/content/drive\", force_remount=True).\n"
          ]
        }
      ],
      "source": [
        "from google.colab import drive\n",
        "drive.mount('/content/drive')\n"
      ]
    },
    {
      "cell_type": "code",
      "execution_count": 5,
      "metadata": {
        "id": "n18a4srkjWZ3"
      },
      "outputs": [],
      "source": [
        "# Define dataset directory\n",
        "import os\n",
        "dataset_path = \"/content/drive/MyDrive/archive(1)\"\n",
        "\n",
        "# Subfolder paths\n",
        "defected_path = os.path.join(dataset_path, \"defected\")  # Cracked images\n",
        "no_defected_path = os.path.join(dataset_path, \"no_defected\")  # Non-cracked images\n",
        "\n"
      ]
    },
    {
      "cell_type": "code",
      "execution_count": 6,
      "metadata": {
        "colab": {
          "base_uri": "https://localhost:8080/",
          "height": 35
        },
        "id": "yb-28RIYjf-j",
        "outputId": "c8ee4542-266a-4aff-e8d3-09b84402db52"
      },
      "outputs": [
        {
          "data": {
            "application/vnd.google.colaboratory.intrinsic+json": {
              "type": "string"
            },
            "text/plain": [
              "'/content/drive/MyDrive/archive(1)/defected'"
            ]
          },
          "execution_count": 6,
          "metadata": {},
          "output_type": "execute_result"
        }
      ],
      "source": [
        "defected_path"
      ]
    },
    {
      "cell_type": "code",
      "execution_count": null,
      "metadata": {
        "colab": {
          "base_uri": "https://localhost:8080/"
        },
        "id": "lKwTixtTjoih",
        "outputId": "548020b6-e971-4e3f-9a5f-793f022561b0"
      },
      "outputs": [
        {
          "name": "stdout",
          "output_type": "stream",
          "text": [
            "Drive already mounted at /content/drive; to attempt to forcibly remount, call drive.mount(\"/content/drive\", force_remount=True).\n"
          ]
        }
      ],
      "source": [
        "from google.colab import drive\n",
        "drive.mount('/content/drive')\n"
      ]
    },
    {
      "cell_type": "code",
      "execution_count": 7,
      "metadata": {
        "colab": {
          "base_uri": "https://localhost:8080/"
        },
        "id": "fKYQoIh2j_Ey",
        "outputId": "f4abc44a-3751-4029-ce7b-1a644e120728"
      },
      "outputs": [
        {
          "name": "stdout",
          "output_type": "stream",
          "text": [
            "['Colab Notebooks', 'Rohit_Bind_CloudEagle).pdf', 'RohitBind_BITSPilani - (4).pdf', 'Classroom', 'Books', 'Academic requirements', 'Dataset13.docx', 'dataset13.docx', 'Projects', 'Workbook_Expt06 (2).docx', 'Lecture 3.pdf', 'GC-Lecture 8-2021-22.pdf', 'Lecture 29.pdf', 'Lecture 25.pdf', 'Lecture 5-2021-22.pdf', 'Lecture 24.pdf', 'Lecture  12.pdf', 'Lecture 2-2021-22.pdf', 'Lecture 27.pdf', 'Lecture 20.pdf', 'GC-Lecture 4-2021-22.pdf', 'Lecture 19.pdf', 'Lecture 17.pdf', 'Lecture  13.pdf', 'Lecture  15.pdf', 'Lecture 31.pdf', 'Lecture 21.pdf', 'Lecture 23.pdf', 'Lecture 26.pdf', 'Lecture 6-2021-22.pdf', 'Lecture 1-2021-22.pdf', 'Lecture 9-2021-22.pdf', 'Lecture 32.pdf', 'Lecture 22.pdf', 'Lecture 10-2021-22.pdf', 'Lecture 33.pdf', 'Lecture  14.pdf', 'Lecture 28.pdf', 'Lecture 18.pdf', 'Lecture 16.pdf', 'Lecture 11-2021-22.pdf', 'Lecture 7-2021-22.pdf', 'Lecture 30.pdf', 'Set13.docx', 'Rohit bind', 'Mathematics 2 Course Quiz - 2 Attempt Review.pdf', 'CP_Lab_Test_Marks_Posted_8-8-22-1.xlsx', 'Timetable_I_Sem_2022_2023_13thAug22.pdf', 'rohit resume .pdf.pdf', 'rohittttttt (1).pdf', 'New Joiner Info-2 (1).xlsx', 'New Joiner Info-2.xlsx', 'rohit Bind sheet 1.gsheet', 'rohit Bind sheet 1.xlsx', 'Diffusion-2.pdf', 'mid sem marks MECHSOL.pdf', 'mid sem marks MECHSOL.gdoc', 'rohittttttt.pdf', 'deflection.pdf', 'ECON F354 (2022-01-28 at 00:37 GMT-8).gdrive', 'Copy of Lecture 3 (1).gdrive', 'Copy of Lecture 3.gdrive', 'acceleration video ', 'Midsem 2018(Solved).gdoc', 'Recording Transactions (1).pptx', 'Recording Transactions.pptx', 'Tvs often import their raw material or parts of vehicle in cargos where you need to keep your shipment condition in check mi~this ,and make sure your cargo arrives in perfect condition every time ,we need to achieve complete supply chain visibility .gdoc', ' PS2 Sem1 2022-23.gsheet', 'Resume_Rohit Bind.pdf', 'Resume_Rohit Bind-4.pdf', 'BeneficiaryDetailForSocialAuditReport_PMAYG_3145025_2023-2024.gdoc', 'Translated copy of BeneficiaryDetailForSocialAuditReport_PMAYG_3145025_2023-2024.gdoc', 'Translated copy of Translated copy of BeneficiaryDetailForSocialAuditReport_PMAYG_3145025_2023-2024.gdoc', 'Ch-11.3-11.4.gdoc', 'Form_pdf_184491510140823 (1).pdf', 'Form_pdf_184491510140823.pdf', 'leave-consent.pdf', 'SNAPS-21', 'Copy of Decision Tree Diagram by Slidesgo.gslides', 'Ideate Create #3 - Pie chart 1.gsheet', 'Ideate Create #3 - Column chart 1.gsheet', 'resume_ Rohitbind (8).pdf', 'resume_ Rohitbind (7).pdf', 'Revised Simplex.pdf', 'inbound1594733883975309925.pdf', 'inbound3281824283744090879.pdf', 'resume_Rohitbind -3-1.pdf', 'resume_ Rohitbind (6).pdf', 'resume_ Rohitbind (5).pdf', 'resume_ Rohitbind (4).pdf', 'resume_ Rohitbind (3).pdf', 'resume_ Rohitbind (2).pdf', 'resume_ Rohitbind (1).pdf', 'resume_ Rohitbind.pdf', 'MM ZG621-QMJ ZG621-L8.pdf', 'Task', 'An Introduction to CPFR in the Supply Chain.pdf', 'IMG20240501121146.pdf', 'Modern and Minimal Company Profile Presentation.pptx', 'VID-20240410-WA0003.mp4', 'Untitled spreadsheet (5).gsheet', 'Untitled spreadsheet (4).gsheet', 'Untitled spreadsheet (3).gsheet', 'inbound6845735585968201473.pdf', 'resume_ Rohitbind      (13).pdf', 'resume_ Rohitbind      (12).pdf', 'resume_ Rohitbind      (11).pdf', 'inbound3415603984387156098.pdf', 'resume_ Rohitbind      (10).pdf', 'resume_ Rohitbind      (9).pdf', 'resume_ Rohitbind      (8).pdf', 'resume_ Rohitbind      (7).pdf', 'resume_ Rohitbind      (6).pdf', 'resume_ Rohitbind      (5).pdf', 'resume_ Rohitbind      (4).pdf', 'resume_ Rohitbind      (3).pdf', 'resume_ Rohitbind      (2).pdf', 'resume_ Rohitbind      (1).pdf', 'resume_ Rohitbind     .pdf', 'MediAssist Elderly Healthcare Needs Survey.gform', 'Medicare.gform', 'resume_ Rohitbind -1.pdf', 'Final_Pitch_Deck_29-02-2024.pdf', 'Final_Pitch_Deck.pdf', 'Rohit_ITR merged.pdf', 'Rohit_resume (3).pdf', 'Rohit_resume (2).pdf', 'Rohit_resume (1).pdf', 'Rohit_resume.pdf', 'rohit_resume(1).pdf', 'rohit_resume(1pdf (7).pdf', 'rohit_resume(1pdf (6).pdf', 'Rohit_Bind (1).pdf', 'Rohit_Bind.pdf', 'rohit_resume(1pdf (5).pdf', 'rohit_resume(1pdf (4).pdf', 'Ans.pdf', 'UNDERTAKING.docx', 'UNDERTAKING.gdoc', 'Copy of UNDERTAKING.gdoc', 'Copy of Copy of UNDERTAKING.gdoc', 'Copy of Copy of Copy of UNDERTAKING.gdoc', 'Untitled document (4).gdoc', 'Untitled spreadsheet (2).gsheet', 'RohitBind_Concept .pdf', 'Rohit Bind_Excel .xlsx', 'rohit_resume (1).pdf', 'rohit_resume(1pdf (3).pdf', 'rohit_resume.pdf', 'rohit_resume(1pdf (2).pdf', 'rohit_resume(1pdf (1).pdf', 'rohit_resume(1pdf.pdf', 'IMG20250117135908 (1).pdf', 'UNDERTAKING_DELOITTE (1).docx', 'UNDERTAKING_DELOITTE.docx', 'Copy of UNDERTAKING_DELOITTE.docx', 'computation :ack.pdf', 'Untitled document (3).gdoc', 'Rohit_ resume.pdf', 'NullClass .gdoc', 'ROHIT_BIND .gdoc', 'RetainIQ-Assignment.gdoc', 'RetainIQ_Assignment', 'rohit_resume  (5).pdf', 'rohit_resume  (4).pdf', 'rohit_resume  (3).pdf', 'rohit_resume  (2).pdf', 'samagra', 'Project Report_ ML Application in Additive Manufacturing .pdf', 'CloudEagle Assignment (2021ABPS2719P).pdf', 'Untitled document (2).gdoc', 'Untitled document (1).gdoc', 'Rohit resume ', 'rohit_resume  (1).pdf', 'rohit_resume .pdf', \"Founder's Office Assignment Dump (2).xlsx\", 'Untitled spreadsheet (1).gsheet', \"Founder's Office Assignment Dump (2).gsheet\", 'Rohit Bind Deconstruct.zip', 'Rohit.zip', 'Rohit_Bind_deconstruct_Assignment.zip', 'inbound6054116062755166522.pdf', 'Rohit_ Resume (5).pdf', 'Rohit_ Resume (4).pdf', 'Rohit_ Resume (3).pdf', 'Rohit_ Resume (2).pdf', 'Rohit_ Resume (1).pdf', 'RohitBind_BITSPilani.pdf', 'Rohit_ Resume.pdf', 'Untitled document.gdoc', 'RenderCV_sb2nov_Theme.gdoc', 'RohitBind_Analyst .pdf', 'RohitBind_Analyst _.pdf', 'RohitBind_Resume.pdf', 'RohitBind_Analyst (8).pdf', 'RohitBind_Resume_ (6).pdf', 'RohitBind_Resume_ (5).pdf', 'RohitBind_Analyst (7).pdf', 'RohitBind_Resume_ (4).pdf', 'RohitBind_Resume_ (3).pdf', 'RohitBind_Analyst (6).pdf', 'RohitBind_Analyst (5).pdf', 'RohitBind_Resume_ (2).pdf', 'RohitBind_Resume_ (1).pdf', 'RohitBind_Analyst (4).pdf', 'RohitBind_Analyst (3).pdf', 'RohitBind_Analyst (2).pdf', 'RohitBind_Resume_.pdf', 'RohitBind_Analyst (1).pdf', 'RohitBind_Analyst.pdf', 'Grade book.gsheet', 'troopod_dashboard.xlsx', 'dalaltrial1.gsheet', 'V1.gsheet', 'Hafsora X Troopod_Rohit 2025-04-16 14-37-31.mp4', 'TSR_Assignment_2021ABPS2719P.gdoc', 'RohitBind_BITSPilani - (3).pdf', 'RohitBind_BITSPilani - (2).pdf', 'RohitBind_BITSPilani - (1).pdf', 'RohitBind_BITSPilani --1 (11).pdf', 'RohitBind_BITSPilani --1 (10).pdf', 'RohitBind_BITSPilani --1 (9).pdf', 'RohitBind_BITSPilani --1 (8).pdf', 'RohitBind_BITSPilani --1 (7).pdf', 'RohitBind_BITSPilani --1 (6).pdf', 'RohitBind_BITSPilani --1 (5).pdf', 'RohitBind_BITSPilani --1 (4).pdf', 'RohitBind_BITSPilani --1 (3).pdf', 'RohitBind_BITSPilani --1 (2).pdf', 'inbound5822204074317234186.pdf', 'ROHIT_BIND_2021ABPS2719P.pptx', 'Presentation', 'osmos.ai', 'Resume ', 'RohitBind_BITSPilani --1 (1).pdf', 'RohitBind_BITSPilani --1.pdf', 'RohitBind_BITSPilani -.pdf', 'Rohit_BITSPilani .pdf', 'Copy of Gmail Sheets mail merge  (3).gsheet', 'Copy of Gmail Sheets mail merge  (2).gsheet', 'Copy of Gmail Sheets mail merge  (1).gsheet', 'Startups 2024 hiring .xlsx', 'Untitled spreadsheet.gsheet', 'Copy of Gmail Sheets mail merge .gsheet']\n"
          ]
        }
      ],
      "source": [
        "import os\n",
        "print(os.listdir(\"/content/drive/MyDrive\"))  # Check folder names\n"
      ]
    },
    {
      "cell_type": "code",
      "execution_count": 8,
      "metadata": {
        "colab": {
          "base_uri": "https://localhost:8080/"
        },
        "id": "BbwwlrRX5kkR",
        "outputId": "d6dc0af6-b29f-4f74-d2e5-8124a79808c9"
      },
      "outputs": [
        {
          "name": "stdout",
          "output_type": "stream",
          "text": [
            "['defected', 'no_defected']\n"
          ]
        }
      ],
      "source": [
        "dataset_path = \"/content/drive/MyDrive/Colab Notebooks/archive (1)\"\n",
        "print(os.listdir(dataset_path))  # Check if 'defected' and 'no_defected' exist\n"
      ]
    },
    {
      "cell_type": "code",
      "execution_count": 9,
      "metadata": {
        "colab": {
          "base_uri": "https://localhost:8080/"
        },
        "id": "3KYpltvR5ysd",
        "outputId": "48f494f2-8d55-4f90-ba20-b2352f1625ce"
      },
      "outputs": [
        {
          "name": "stdout",
          "output_type": "stream",
          "text": [
            "Defected images: 759\n",
            "No Defected images: 798\n"
          ]
        }
      ],
      "source": [
        "defected_path = os.path.join(dataset_path, \"defected\")\n",
        "no_defected_path = os.path.join(dataset_path, \"no_defected\")\n",
        "\n",
        "print(\"Defected images:\", len(os.listdir(defected_path)))\n",
        "print(\"No Defected images:\", len(os.listdir(no_defected_path)))\n"
      ]
    },
    {
      "cell_type": "code",
      "execution_count": 10,
      "metadata": {
        "id": "eeqEa3Fr6DL6"
      },
      "outputs": [],
      "source": [
        "import os\n",
        "import numpy as np\n",
        "import cv2\n",
        "import matplotlib.pyplot as plt\n",
        "from sklearn.model_selection import train_test_split\n",
        "import tensorflow as tf\n",
        "from tensorflow import keras\n",
        "from tensorflow.keras import layers\n"
      ]
    },
    {
      "cell_type": "code",
      "execution_count": 11,
      "metadata": {
        "colab": {
          "base_uri": "https://localhost:8080/"
        },
        "id": "P7cz0Rh_6VA1",
        "outputId": "c4750c77-eb0f-487b-c5b4-8ba59cd52813"
      },
      "outputs": [
        {
          "name": "stdout",
          "output_type": "stream",
          "text": [
            "Total images: 1557, Shape: (128, 128, 3)\n"
          ]
        }
      ],
      "source": [
        "# Function to load images from a folder\n",
        "def load_images_from_folder(folder, label, num_images=None):\n",
        "    images, labels = [], []\n",
        "\n",
        "    file_list = os.listdir(folder)\n",
        "    if num_images:\n",
        "        file_list = file_list[:num_images]  # Limit dataset if needed\n",
        "\n",
        "    for filename in file_list:\n",
        "        img_path = os.path.join(folder, filename)\n",
        "        img = cv2.imread(img_path)\n",
        "        if img is not None:\n",
        "            img = cv2.resize(img, (128, 128))  # Resize images\n",
        "            img = cv2.cvtColor(img, cv2.COLOR_BGR2RGB)  # Convert BGR to RGB\n",
        "            images.append(img)\n",
        "            labels.append(label)  # 1 for defected, 0 for no_defected\n",
        "\n",
        "    return images, labels\n",
        "\n",
        "# Load images from both folders\n",
        "defected_images, defected_labels = load_images_from_folder(defected_path, label=1)\n",
        "no_defected_images, no_defected_labels = load_images_from_folder(no_defected_path, label=0)\n",
        "\n",
        "# Combine data\n",
        "all_images = np.array(defected_images + no_defected_images) / 255.0  # Normalize\n",
        "all_labels = np.array(defected_labels + no_defected_labels)\n",
        "\n",
        "print(f\"Total images: {all_images.shape[0]}, Shape: {all_images.shape[1:]}\")\n"
      ]
    },
    {
      "cell_type": "code",
      "execution_count": 18,
      "metadata": {
        "colab": {
          "base_uri": "https://localhost:8080/"
        },
        "id": "rKsLRYhA82Y_",
        "outputId": "e3f83401-3b82-4ff9-f503-14ca98b9d9f5"
      },
      "outputs": [
        {
          "data": {
            "text/plain": [
              "(1557, 128, 128, 3)"
            ]
          },
          "execution_count": 18,
          "metadata": {},
          "output_type": "execute_result"
        }
      ],
      "source": [
        "all_images.shape"
      ]
    },
    {
      "cell_type": "code",
      "execution_count": 19,
      "metadata": {
        "colab": {
          "base_uri": "https://localhost:8080/"
        },
        "id": "0sG8dBqW_UaT",
        "outputId": "33a78c3e-2284-4f87-8376-d80055ad0cc3"
      },
      "outputs": [
        {
          "data": {
            "text/plain": [
              "(1557,)"
            ]
          },
          "execution_count": 19,
          "metadata": {},
          "output_type": "execute_result"
        }
      ],
      "source": [
        "all_labels.shape"
      ]
    },
    {
      "cell_type": "code",
      "execution_count": 20,
      "metadata": {
        "colab": {
          "base_uri": "https://localhost:8080/"
        },
        "id": "z5dUTGDF60c0",
        "outputId": "6f355a44-e11e-4908-f269-404bf3e6eccf"
      },
      "outputs": [
        {
          "name": "stdout",
          "output_type": "stream",
          "text": [
            "Training Data: 1245, Testing Data: 312\n"
          ]
        }
      ],
      "source": [
        "X_train, X_test, y_train, y_test = train_test_split(all_images, all_labels, test_size=0.2, random_state=42)\n",
        "\n",
        "print(f\"Training Data: {X_train.shape[0]}, Testing Data: {X_test.shape[0]}\")\n"
      ]
    },
    {
      "cell_type": "code",
      "execution_count": 21,
      "metadata": {
        "colab": {
          "base_uri": "https://localhost:8080/",
          "height": 504
        },
        "id": "BGyl6gNS7hAg",
        "outputId": "fb6f3ae4-9b32-4ece-89aa-ca85990b71d4"
      },
      "outputs": [
        {
          "name": "stderr",
          "output_type": "stream",
          "text": [
            "/usr/local/lib/python3.11/dist-packages/keras/src/layers/convolutional/base_conv.py:107: UserWarning: Do not pass an `input_shape`/`input_dim` argument to a layer. When using Sequential models, prefer using an `Input(shape)` object as the first layer in the model instead.\n",
            "  super().__init__(activity_regularizer=activity_regularizer, **kwargs)\n"
          ]
        },
        {
          "data": {
            "text/html": [
              "<pre style=\"white-space:pre;overflow-x:auto;line-height:normal;font-family:Menlo,'DejaVu Sans Mono',consolas,'Courier New',monospace\"><span style=\"font-weight: bold\">Model: \"sequential\"</span>\n",
              "</pre>\n"
            ],
            "text/plain": [
              "\u001b[1mModel: \"sequential\"\u001b[0m\n"
            ]
          },
          "metadata": {},
          "output_type": "display_data"
        },
        {
          "data": {
            "text/html": [
              "<pre style=\"white-space:pre;overflow-x:auto;line-height:normal;font-family:Menlo,'DejaVu Sans Mono',consolas,'Courier New',monospace\">┏━━━━━━━━━━━━━━━━━━━━━━━━━━━━━━━━━┳━━━━━━━━━━━━━━━━━━━━━━━━┳━━━━━━━━━━━━━━━┓\n",
              "┃<span style=\"font-weight: bold\"> Layer (type)                    </span>┃<span style=\"font-weight: bold\"> Output Shape           </span>┃<span style=\"font-weight: bold\">       Param # </span>┃\n",
              "┡━━━━━━━━━━━━━━━━━━━━━━━━━━━━━━━━━╇━━━━━━━━━━━━━━━━━━━━━━━━╇━━━━━━━━━━━━━━━┩\n",
              "│ conv2d (<span style=\"color: #0087ff; text-decoration-color: #0087ff\">Conv2D</span>)                 │ (<span style=\"color: #00d7ff; text-decoration-color: #00d7ff\">None</span>, <span style=\"color: #00af00; text-decoration-color: #00af00\">126</span>, <span style=\"color: #00af00; text-decoration-color: #00af00\">126</span>, <span style=\"color: #00af00; text-decoration-color: #00af00\">32</span>)   │           <span style=\"color: #00af00; text-decoration-color: #00af00\">896</span> │\n",
              "├─────────────────────────────────┼────────────────────────┼───────────────┤\n",
              "│ max_pooling2d (<span style=\"color: #0087ff; text-decoration-color: #0087ff\">MaxPooling2D</span>)    │ (<span style=\"color: #00d7ff; text-decoration-color: #00d7ff\">None</span>, <span style=\"color: #00af00; text-decoration-color: #00af00\">63</span>, <span style=\"color: #00af00; text-decoration-color: #00af00\">63</span>, <span style=\"color: #00af00; text-decoration-color: #00af00\">32</span>)     │             <span style=\"color: #00af00; text-decoration-color: #00af00\">0</span> │\n",
              "├─────────────────────────────────┼────────────────────────┼───────────────┤\n",
              "│ conv2d_1 (<span style=\"color: #0087ff; text-decoration-color: #0087ff\">Conv2D</span>)               │ (<span style=\"color: #00d7ff; text-decoration-color: #00d7ff\">None</span>, <span style=\"color: #00af00; text-decoration-color: #00af00\">61</span>, <span style=\"color: #00af00; text-decoration-color: #00af00\">61</span>, <span style=\"color: #00af00; text-decoration-color: #00af00\">64</span>)     │        <span style=\"color: #00af00; text-decoration-color: #00af00\">18,496</span> │\n",
              "├─────────────────────────────────┼────────────────────────┼───────────────┤\n",
              "│ max_pooling2d_1 (<span style=\"color: #0087ff; text-decoration-color: #0087ff\">MaxPooling2D</span>)  │ (<span style=\"color: #00d7ff; text-decoration-color: #00d7ff\">None</span>, <span style=\"color: #00af00; text-decoration-color: #00af00\">30</span>, <span style=\"color: #00af00; text-decoration-color: #00af00\">30</span>, <span style=\"color: #00af00; text-decoration-color: #00af00\">64</span>)     │             <span style=\"color: #00af00; text-decoration-color: #00af00\">0</span> │\n",
              "├─────────────────────────────────┼────────────────────────┼───────────────┤\n",
              "│ conv2d_2 (<span style=\"color: #0087ff; text-decoration-color: #0087ff\">Conv2D</span>)               │ (<span style=\"color: #00d7ff; text-decoration-color: #00d7ff\">None</span>, <span style=\"color: #00af00; text-decoration-color: #00af00\">28</span>, <span style=\"color: #00af00; text-decoration-color: #00af00\">28</span>, <span style=\"color: #00af00; text-decoration-color: #00af00\">128</span>)    │        <span style=\"color: #00af00; text-decoration-color: #00af00\">73,856</span> │\n",
              "├─────────────────────────────────┼────────────────────────┼───────────────┤\n",
              "│ max_pooling2d_2 (<span style=\"color: #0087ff; text-decoration-color: #0087ff\">MaxPooling2D</span>)  │ (<span style=\"color: #00d7ff; text-decoration-color: #00d7ff\">None</span>, <span style=\"color: #00af00; text-decoration-color: #00af00\">14</span>, <span style=\"color: #00af00; text-decoration-color: #00af00\">14</span>, <span style=\"color: #00af00; text-decoration-color: #00af00\">128</span>)    │             <span style=\"color: #00af00; text-decoration-color: #00af00\">0</span> │\n",
              "├─────────────────────────────────┼────────────────────────┼───────────────┤\n",
              "│ flatten (<span style=\"color: #0087ff; text-decoration-color: #0087ff\">Flatten</span>)               │ (<span style=\"color: #00d7ff; text-decoration-color: #00d7ff\">None</span>, <span style=\"color: #00af00; text-decoration-color: #00af00\">25088</span>)          │             <span style=\"color: #00af00; text-decoration-color: #00af00\">0</span> │\n",
              "├─────────────────────────────────┼────────────────────────┼───────────────┤\n",
              "│ dense (<span style=\"color: #0087ff; text-decoration-color: #0087ff\">Dense</span>)                   │ (<span style=\"color: #00d7ff; text-decoration-color: #00d7ff\">None</span>, <span style=\"color: #00af00; text-decoration-color: #00af00\">128</span>)            │     <span style=\"color: #00af00; text-decoration-color: #00af00\">3,211,392</span> │\n",
              "├─────────────────────────────────┼────────────────────────┼───────────────┤\n",
              "│ dropout (<span style=\"color: #0087ff; text-decoration-color: #0087ff\">Dropout</span>)               │ (<span style=\"color: #00d7ff; text-decoration-color: #00d7ff\">None</span>, <span style=\"color: #00af00; text-decoration-color: #00af00\">128</span>)            │             <span style=\"color: #00af00; text-decoration-color: #00af00\">0</span> │\n",
              "├─────────────────────────────────┼────────────────────────┼───────────────┤\n",
              "│ dense_1 (<span style=\"color: #0087ff; text-decoration-color: #0087ff\">Dense</span>)                 │ (<span style=\"color: #00d7ff; text-decoration-color: #00d7ff\">None</span>, <span style=\"color: #00af00; text-decoration-color: #00af00\">1</span>)              │           <span style=\"color: #00af00; text-decoration-color: #00af00\">129</span> │\n",
              "└─────────────────────────────────┴────────────────────────┴───────────────┘\n",
              "</pre>\n"
            ],
            "text/plain": [
              "┏━━━━━━━━━━━━━━━━━━━━━━━━━━━━━━━━━┳━━━━━━━━━━━━━━━━━━━━━━━━┳━━━━━━━━━━━━━━━┓\n",
              "┃\u001b[1m \u001b[0m\u001b[1mLayer (type)                   \u001b[0m\u001b[1m \u001b[0m┃\u001b[1m \u001b[0m\u001b[1mOutput Shape          \u001b[0m\u001b[1m \u001b[0m┃\u001b[1m \u001b[0m\u001b[1m      Param #\u001b[0m\u001b[1m \u001b[0m┃\n",
              "┡━━━━━━━━━━━━━━━━━━━━━━━━━━━━━━━━━╇━━━━━━━━━━━━━━━━━━━━━━━━╇━━━━━━━━━━━━━━━┩\n",
              "│ conv2d (\u001b[38;5;33mConv2D\u001b[0m)                 │ (\u001b[38;5;45mNone\u001b[0m, \u001b[38;5;34m126\u001b[0m, \u001b[38;5;34m126\u001b[0m, \u001b[38;5;34m32\u001b[0m)   │           \u001b[38;5;34m896\u001b[0m │\n",
              "├─────────────────────────────────┼────────────────────────┼───────────────┤\n",
              "│ max_pooling2d (\u001b[38;5;33mMaxPooling2D\u001b[0m)    │ (\u001b[38;5;45mNone\u001b[0m, \u001b[38;5;34m63\u001b[0m, \u001b[38;5;34m63\u001b[0m, \u001b[38;5;34m32\u001b[0m)     │             \u001b[38;5;34m0\u001b[0m │\n",
              "├─────────────────────────────────┼────────────────────────┼───────────────┤\n",
              "│ conv2d_1 (\u001b[38;5;33mConv2D\u001b[0m)               │ (\u001b[38;5;45mNone\u001b[0m, \u001b[38;5;34m61\u001b[0m, \u001b[38;5;34m61\u001b[0m, \u001b[38;5;34m64\u001b[0m)     │        \u001b[38;5;34m18,496\u001b[0m │\n",
              "├─────────────────────────────────┼────────────────────────┼───────────────┤\n",
              "│ max_pooling2d_1 (\u001b[38;5;33mMaxPooling2D\u001b[0m)  │ (\u001b[38;5;45mNone\u001b[0m, \u001b[38;5;34m30\u001b[0m, \u001b[38;5;34m30\u001b[0m, \u001b[38;5;34m64\u001b[0m)     │             \u001b[38;5;34m0\u001b[0m │\n",
              "├─────────────────────────────────┼────────────────────────┼───────────────┤\n",
              "│ conv2d_2 (\u001b[38;5;33mConv2D\u001b[0m)               │ (\u001b[38;5;45mNone\u001b[0m, \u001b[38;5;34m28\u001b[0m, \u001b[38;5;34m28\u001b[0m, \u001b[38;5;34m128\u001b[0m)    │        \u001b[38;5;34m73,856\u001b[0m │\n",
              "├─────────────────────────────────┼────────────────────────┼───────────────┤\n",
              "│ max_pooling2d_2 (\u001b[38;5;33mMaxPooling2D\u001b[0m)  │ (\u001b[38;5;45mNone\u001b[0m, \u001b[38;5;34m14\u001b[0m, \u001b[38;5;34m14\u001b[0m, \u001b[38;5;34m128\u001b[0m)    │             \u001b[38;5;34m0\u001b[0m │\n",
              "├─────────────────────────────────┼────────────────────────┼───────────────┤\n",
              "│ flatten (\u001b[38;5;33mFlatten\u001b[0m)               │ (\u001b[38;5;45mNone\u001b[0m, \u001b[38;5;34m25088\u001b[0m)          │             \u001b[38;5;34m0\u001b[0m │\n",
              "├─────────────────────────────────┼────────────────────────┼───────────────┤\n",
              "│ dense (\u001b[38;5;33mDense\u001b[0m)                   │ (\u001b[38;5;45mNone\u001b[0m, \u001b[38;5;34m128\u001b[0m)            │     \u001b[38;5;34m3,211,392\u001b[0m │\n",
              "├─────────────────────────────────┼────────────────────────┼───────────────┤\n",
              "│ dropout (\u001b[38;5;33mDropout\u001b[0m)               │ (\u001b[38;5;45mNone\u001b[0m, \u001b[38;5;34m128\u001b[0m)            │             \u001b[38;5;34m0\u001b[0m │\n",
              "├─────────────────────────────────┼────────────────────────┼───────────────┤\n",
              "│ dense_1 (\u001b[38;5;33mDense\u001b[0m)                 │ (\u001b[38;5;45mNone\u001b[0m, \u001b[38;5;34m1\u001b[0m)              │           \u001b[38;5;34m129\u001b[0m │\n",
              "└─────────────────────────────────┴────────────────────────┴───────────────┘\n"
            ]
          },
          "metadata": {},
          "output_type": "display_data"
        },
        {
          "data": {
            "text/html": [
              "<pre style=\"white-space:pre;overflow-x:auto;line-height:normal;font-family:Menlo,'DejaVu Sans Mono',consolas,'Courier New',monospace\"><span style=\"font-weight: bold\"> Total params: </span><span style=\"color: #00af00; text-decoration-color: #00af00\">3,304,769</span> (12.61 MB)\n",
              "</pre>\n"
            ],
            "text/plain": [
              "\u001b[1m Total params: \u001b[0m\u001b[38;5;34m3,304,769\u001b[0m (12.61 MB)\n"
            ]
          },
          "metadata": {},
          "output_type": "display_data"
        },
        {
          "data": {
            "text/html": [
              "<pre style=\"white-space:pre;overflow-x:auto;line-height:normal;font-family:Menlo,'DejaVu Sans Mono',consolas,'Courier New',monospace\"><span style=\"font-weight: bold\"> Trainable params: </span><span style=\"color: #00af00; text-decoration-color: #00af00\">3,304,769</span> (12.61 MB)\n",
              "</pre>\n"
            ],
            "text/plain": [
              "\u001b[1m Trainable params: \u001b[0m\u001b[38;5;34m3,304,769\u001b[0m (12.61 MB)\n"
            ]
          },
          "metadata": {},
          "output_type": "display_data"
        },
        {
          "data": {
            "text/html": [
              "<pre style=\"white-space:pre;overflow-x:auto;line-height:normal;font-family:Menlo,'DejaVu Sans Mono',consolas,'Courier New',monospace\"><span style=\"font-weight: bold\"> Non-trainable params: </span><span style=\"color: #00af00; text-decoration-color: #00af00\">0</span> (0.00 B)\n",
              "</pre>\n"
            ],
            "text/plain": [
              "\u001b[1m Non-trainable params: \u001b[0m\u001b[38;5;34m0\u001b[0m (0.00 B)\n"
            ]
          },
          "metadata": {},
          "output_type": "display_data"
        }
      ],
      "source": [
        "# Define CNN Model\n",
        "model = keras.Sequential([\n",
        "    layers.Conv2D(32, (3,3), activation='relu', input_shape=(128, 128, 3)),\n",
        "    layers.MaxPooling2D((2,2)),\n",
        "\n",
        "    layers.Conv2D(64, (3,3), activation='relu'),\n",
        "    layers.MaxPooling2D((2,2)),\n",
        "\n",
        "    layers.Conv2D(128, (3,3), activation='relu'),\n",
        "    layers.MaxPooling2D((2,2)),\n",
        "\n",
        "    layers.Flatten(),\n",
        "    layers.Dense(128, activation='relu'),\n",
        "    layers.Dropout(0.5),\n",
        "    layers.Dense(1, activation='sigmoid')  # Output layer (Binary Classification)\n",
        "])\n",
        "\n",
        "# Compile Model\n",
        "model.compile(optimizer='adam', loss='binary_crossentropy', metrics=['accuracy'])\n",
        "\n",
        "# Model Summary\n",
        "model.summary()\n"
      ]
    },
    {
      "cell_type": "code",
      "execution_count": 22,
      "metadata": {
        "colab": {
          "base_uri": "https://localhost:8080/"
        },
        "id": "tZVz-Lw37krt",
        "outputId": "9ef54ce7-e9b1-4299-9534-940ff4ac73b8"
      },
      "outputs": [
        {
          "name": "stdout",
          "output_type": "stream",
          "text": [
            "Epoch 1/10\n",
            "\u001b[1m39/39\u001b[0m \u001b[32m━━━━━━━━━━━━━━━━━━━━\u001b[0m\u001b[37m\u001b[0m \u001b[1m60s\u001b[0m 1s/step - accuracy: 0.7140 - loss: 0.4951 - val_accuracy: 0.9744 - val_loss: 0.0744\n",
            "Epoch 2/10\n",
            "\u001b[1m39/39\u001b[0m \u001b[32m━━━━━━━━━━━━━━━━━━━━\u001b[0m\u001b[37m\u001b[0m \u001b[1m70s\u001b[0m 1s/step - accuracy: 0.9810 - loss: 0.0733 - val_accuracy: 1.0000 - val_loss: 0.0110\n",
            "Epoch 3/10\n",
            "\u001b[1m39/39\u001b[0m \u001b[32m━━━━━━━━━━━━━━━━━━━━\u001b[0m\u001b[37m\u001b[0m \u001b[1m82s\u001b[0m 1s/step - accuracy: 1.0000 - loss: 0.0079 - val_accuracy: 1.0000 - val_loss: 3.2116e-04\n",
            "Epoch 4/10\n",
            "\u001b[1m39/39\u001b[0m \u001b[32m━━━━━━━━━━━━━━━━━━━━\u001b[0m\u001b[37m\u001b[0m \u001b[1m83s\u001b[0m 1s/step - accuracy: 1.0000 - loss: 9.2458e-04 - val_accuracy: 1.0000 - val_loss: 1.3784e-04\n",
            "Epoch 5/10\n",
            "\u001b[1m39/39\u001b[0m \u001b[32m━━━━━━━━━━━━━━━━━━━━\u001b[0m\u001b[37m\u001b[0m \u001b[1m81s\u001b[0m 1s/step - accuracy: 1.0000 - loss: 4.4134e-04 - val_accuracy: 1.0000 - val_loss: 3.1996e-05\n",
            "Epoch 6/10\n",
            "\u001b[1m39/39\u001b[0m \u001b[32m━━━━━━━━━━━━━━━━━━━━\u001b[0m\u001b[37m\u001b[0m \u001b[1m83s\u001b[0m 1s/step - accuracy: 1.0000 - loss: 3.1987e-04 - val_accuracy: 1.0000 - val_loss: 1.2183e-05\n",
            "Epoch 7/10\n",
            "\u001b[1m39/39\u001b[0m \u001b[32m━━━━━━━━━━━━━━━━━━━━\u001b[0m\u001b[37m\u001b[0m \u001b[1m83s\u001b[0m 1s/step - accuracy: 1.0000 - loss: 9.7827e-05 - val_accuracy: 1.0000 - val_loss: 7.6204e-06\n",
            "Epoch 8/10\n",
            "\u001b[1m39/39\u001b[0m \u001b[32m━━━━━━━━━━━━━━━━━━━━\u001b[0m\u001b[37m\u001b[0m \u001b[1m82s\u001b[0m 1s/step - accuracy: 1.0000 - loss: 1.0657e-04 - val_accuracy: 1.0000 - val_loss: 1.1173e-05\n",
            "Epoch 9/10\n",
            "\u001b[1m39/39\u001b[0m \u001b[32m━━━━━━━━━━━━━━━━━━━━\u001b[0m\u001b[37m\u001b[0m \u001b[1m50s\u001b[0m 1s/step - accuracy: 1.0000 - loss: 1.2403e-04 - val_accuracy: 1.0000 - val_loss: 6.7536e-06\n",
            "Epoch 10/10\n",
            "\u001b[1m39/39\u001b[0m \u001b[32m━━━━━━━━━━━━━━━━━━━━\u001b[0m\u001b[37m\u001b[0m \u001b[1m47s\u001b[0m 1s/step - accuracy: 1.0000 - loss: 1.1235e-04 - val_accuracy: 1.0000 - val_loss: 3.5195e-06\n"
          ]
        }
      ],
      "source": [
        "history = model.fit(X_train, y_train, epochs=10, validation_data=(X_test, y_test), batch_size=32)\n"
      ]
    },
    {
      "cell_type": "code",
      "execution_count": 27,
      "metadata": {
        "id": "TGAd-P0RM3_N"
      },
      "outputs": [],
      "source": [
        "model.save('CNN_crack_detection_model.keras')"
      ]
    },
    {
      "cell_type": "code",
      "execution_count": 28,
      "metadata": {
        "colab": {
          "base_uri": "https://localhost:8080/",
          "height": 17
        },
        "id": "5fWUr2QZOPk3",
        "outputId": "9082eee3-3484-44b8-9edb-862fa531cae1"
      },
      "outputs": [
        {
          "data": {
            "application/javascript": "\n    async function download(id, filename, size) {\n      if (!google.colab.kernel.accessAllowed) {\n        return;\n      }\n      const div = document.createElement('div');\n      const label = document.createElement('label');\n      label.textContent = `Downloading \"${filename}\": `;\n      div.appendChild(label);\n      const progress = document.createElement('progress');\n      progress.max = size;\n      div.appendChild(progress);\n      document.body.appendChild(div);\n\n      const buffers = [];\n      let downloaded = 0;\n\n      const channel = await google.colab.kernel.comms.open(id);\n      // Send a message to notify the kernel that we're ready.\n      channel.send({})\n\n      for await (const message of channel.messages) {\n        // Send a message to notify the kernel that we're ready.\n        channel.send({})\n        if (message.buffers) {\n          for (const buffer of message.buffers) {\n            buffers.push(buffer);\n            downloaded += buffer.byteLength;\n            progress.value = downloaded;\n          }\n        }\n      }\n      const blob = new Blob(buffers, {type: 'application/binary'});\n      const a = document.createElement('a');\n      a.href = window.URL.createObjectURL(blob);\n      a.download = filename;\n      div.appendChild(a);\n      a.click();\n      div.remove();\n    }\n  ",
            "text/plain": [
              "<IPython.core.display.Javascript object>"
            ]
          },
          "metadata": {},
          "output_type": "display_data"
        },
        {
          "data": {
            "application/javascript": "download(\"download_ff5df533-a7d7-4f11-8017-a05c8ec2f373\", \"CNN_crack_detection_model.keras\", 39704683)",
            "text/plain": [
              "<IPython.core.display.Javascript object>"
            ]
          },
          "metadata": {},
          "output_type": "display_data"
        }
      ],
      "source": [
        "from google.colab import files\n",
        "files.download('CNN_crack_detection_model.keras')\n"
      ]
    },
    {
      "cell_type": "code",
      "execution_count": null,
      "metadata": {
        "colab": {
          "base_uri": "https://localhost:8080/",
          "height": 539
        },
        "id": "_1Lx0c3C7pPi",
        "outputId": "1019a567-f13f-4fd4-b87a-8db3ac231fee"
      },
      "outputs": [
        {
          "name": "stdout",
          "output_type": "stream",
          "text": [
            "\u001b[1m10/10\u001b[0m \u001b[32m━━━━━━━━━━━━━━━━━━━━\u001b[0m\u001b[37m\u001b[0m \u001b[1m5s\u001b[0m 491ms/step - accuracy: 1.0000 - loss: 9.0465e-06\n",
            "\n",
            "Test Accuracy: 1.0000\n"
          ]
        },
        {
          "data": {
            "image/png": "[encoded data removed]",
            "text/plain": [
              "<Figure size 1200x500 with 2 Axes>"
            ]
          },
          "metadata": {},
          "output_type": "display_data"
        }
      ],
      "source": [
        "# Evaluate Model\n",
        "test_loss, test_acc = model.evaluate(X_test, y_test)\n",
        "print(f\"\\nTest Accuracy: {test_acc:.4f}\")\n",
        "\n",
        "# Plot Accuracy and Loss\n",
        "plt.figure(figsize=(12, 5))\n",
        "\n",
        "# Accuracy Plot\n",
        "plt.subplot(1, 2, 1)\n",
        "plt.plot(history.history['accuracy'], label='Train Accuracy')\n",
        "plt.plot(history.history['val_accuracy'], label='Val Accuracy')\n",
        "plt.xlabel(\"Epochs\")\n",
        "plt.ylabel(\"Accuracy\")\n",
        "plt.legend()\n",
        "plt.title(\"Model Accuracy\")\n",
        "\n",
        "# Loss Plot\n",
        "plt.subplot(1, 2, 2)\n",
        "plt.plot(history.history['loss'], label='Train Loss')\n",
        "plt.plot(history.history['val_loss'], label='Val Loss')\n",
        "plt.xlabel(\"Epochs\")\n",
        "plt.ylabel(\"Loss\")\n",
        "plt.legend()\n",
        "plt.title(\"Model Loss\")\n",
        "\n",
        "plt.show()\n"
      ]
    },
    {
      "cell_type": "code",
      "execution_count": null,
      "metadata": {
        "colab": {
          "base_uri": "https://localhost:8080/",
          "height": 38
        },
        "id": "ZrFNqT6M9waF",
        "outputId": "2a1d72f9-0cc5-40c0-c78a-02d8008429c3"
      },
      "outputs": [
        {
          "data": {
            "text/html": [
              "\n",
              "     <input type=\"file\" id=\"files-58990f23-aede-4d16-91d3-02d0eb854e87\" name=\"files[]\" multiple disabled\n",
              "        style=\"border:none\" />\n",
              "     <output id=\"result-58990f23-aede-4d16-91d3-02d0eb854e87\">\n",
              "      Upload widget is only available when the cell has been executed in the\n",
              "      current browser session. Please rerun this cell to enable.\n",
              "      </output>\n",
              "      <script>// Copyright 2017 Google LLC\n",
              "//\n",
              "// Licensed under the Apache License, Version 2.0 (the \"License\");\n",
              "// you may not use this file except in compliance with the License.\n",
              "// You may obtain a copy of the License at\n",
              "//\n",
              "//      http://www.apache.org/licenses/LICENSE-2.0\n",
              "//\n",
              "// Unless required by applicable law or agreed to in writing, software\n",
              "// distributed under the License is distributed on an \"AS IS\" BASIS,\n",
              "// WITHOUT WARRANTIES OR CONDITIONS OF ANY KIND, either express or implied.\n",
              "// See the License for the specific language governing permissions and\n",
              "// limitations under the License.\n",
              "\n",
              "/**\n",
              " * @fileoverview Helpers for google.colab Python module.\n",
              " */\n",
              "(function(scope) {\n",
              "function span(text, styleAttributes = {}) {\n",
              "  const element = document.createElement('span');\n",
              "  element.textContent = text;\n",
              "  for (const key of Object.keys(styleAttributes)) {\n",
              "    element.style[key] = styleAttributes[key];\n",
              "  }\n",
              "  return element;\n",
              "}\n",
              "\n",
              "// Max number of bytes which will be uploaded at a time.\n",
              "const MAX_PAYLOAD_SIZE = 100 * 1024;\n",
              "\n",
              "function _uploadFiles(inputId, outputId) {\n",
              "  const steps = uploadFilesStep(inputId, outputId);\n",
              "  const outputElement = document.getElementById(outputId);\n",
              "  // Cache steps on the outputElement to make it available for the next call\n",
              "  // to uploadFilesContinue from Python.\n",
              "  outputElement.steps = steps;\n",
              "\n",
              "  return _uploadFilesContinue(outputId);\n",
              "}\n",
              "\n",
              "// This is roughly an async generator (not supported in the browser yet),\n",
              "// where there are multiple asynchronous steps and the Python side is going\n",
              "// to poll for completion of each step.\n",
              "// This uses a Promise to block the python side on completion of each step,\n",
              "// then passes the result of the previous step as the input to the next step.\n",
              "function _uploadFilesContinue(outputId) {\n",
              "  const outputElement = document.getElementById(outputId);\n",
              "  const steps = outputElement.steps;\n",
              "\n",
              "  const next = steps.next(outputElement.lastPromiseValue);\n",
              "  return Promise.resolve(next.value.promise).then((value) => {\n",
              "    // Cache the last promise value to make it available to the next\n",
              "    // step of the generator.\n",
              "    outputElement.lastPromiseValue = value;\n",
              "    return next.value.response;\n",
              "  });\n",
              "}\n",
              "\n",
              "/**\n",
              " * Generator function which is called between each async step of the upload\n",
              " * process.\n",
              " * @param {string} inputId Element ID of the input file picker element.\n",
              " * @param {string} outputId Element ID of the output display.\n",
              " * @return {!Iterable<!Object>} Iterable of next steps.\n",
              " */\n",
              "function* uploadFilesStep(inputId, outputId) {\n",
              "  const inputElement = document.getElementById(inputId);\n",
              "  inputElement.disabled = false;\n",
              "\n",
              "  const outputElement = document.getElementById(outputId);\n",
              "  outputElement.innerHTML = '';\n",
              "\n",
              "  const pickedPromise = new Promise((resolve) => {\n",
              "    inputElement.addEventListener('change', (e) => {\n",
              "      resolve(e.target.files);\n",
              "    });\n",
              "  });\n",
              "\n",
              "  const cancel = document.createElement('button');\n",
              "  inputElement.parentElement.appendChild(cancel);\n",
              "  cancel.textContent = 'Cancel upload';\n",
              "  const cancelPromise = new Promise((resolve) => {\n",
              "    cancel.onclick = () => {\n",
              "      resolve(null);\n",
              "    };\n",
              "  });\n",
              "\n",
              "  // Wait for the user to pick the files.\n",
              "  const files = yield {\n",
              "    promise: Promise.race([pickedPromise, cancelPromise]),\n",
              "    response: {\n",
              "      action: 'starting',\n",
              "    }\n",
              "  };\n",
              "\n",
              "  cancel.remove();\n",
              "\n",
              "  // Disable the input element since further picks are not allowed.\n",
              "  inputElement.disabled = true;\n",
              "\n",
              "  if (!files) {\n",
              "    return {\n",
              "      response: {\n",
              "        action: 'complete',\n",
              "      }\n",
              "    };\n",
              "  }\n",
              "\n",
              "  for (const file of files) {\n",
              "    const li = document.createElement('li');\n",
              "    li.append(span(file.name, {fontWeight: 'bold'}));\n",
              "    li.append(span(\n",
              "        `(${file.type || 'n/a'}) - ${file.size} bytes, ` +\n",
              "        `last modified: ${\n",
              "            file.lastModifiedDate ? file.lastModifiedDate.toLocaleDateString() :\n",
              "                                    'n/a'} - `));\n",
              "    const percent = span('0% done');\n",
              "    li.appendChild(percent);\n",
              "\n",
              "    outputElement.appendChild(li);\n",
              "\n",
              "    const fileDataPromise = new Promise((resolve) => {\n",
              "      const reader = new FileReader();\n",
              "      reader.onload = (e) => {\n",
              "        resolve(e.target.result);\n",
              "      };\n",
              "      reader.readAsArrayBuffer(file);\n",
              "    });\n",
              "    // Wait for the data to be ready.\n",
              "    let fileData = yield {\n",
              "      promise: fileDataPromise,\n",
              "      response: {\n",
              "        action: 'continue',\n",
              "      }\n",
              "    };\n",
              "\n",
              "    // Use a chunked sending to avoid message size limits. See b/62115660.\n",
              "    let position = 0;\n",
              "    do {\n",
              "      const length = Math.min(fileData.byteLength - position, MAX_PAYLOAD_SIZE);\n",
              "      const chunk = new Uint8Array(fileData, position, length);\n",
              "      position += length;\n",
              "\n",
              "      const base64 = btoa(String.fromCharCode.apply(null, chunk));\n",
              "      yield {\n",
              "        response: {\n",
              "          action: 'append',\n",
              "          file: file.name,\n",
              "          data: base64,\n",
              "        },\n",
              "      };\n",
              "\n",
              "      let percentDone = fileData.byteLength === 0 ?\n",
              "          100 :\n",
              "          Math.round((position / fileData.byteLength) * 100);\n",
              "      percent.textContent = `${percentDone}% done`;\n",
              "\n",
              "    } while (position < fileData.byteLength);\n",
              "  }\n",
              "\n",
              "  // All done.\n",
              "  yield {\n",
              "    response: {\n",
              "      action: 'complete',\n",
              "    }\n",
              "  };\n",
              "}\n",
              "\n",
              "scope.google = scope.google || {};\n",
              "scope.google.colab = scope.google.colab || {};\n",
              "scope.google.colab._files = {\n",
              "  _uploadFiles,\n",
              "  _uploadFilesContinue,\n",
              "};\n",
              "})(self);\n",
              "</script> "
            ],
            "text/plain": [
              "<IPython.core.display.HTML object>"
            ]
          },
          "metadata": {},
          "output_type": "display_data"
        }
      ],
      "source": [
        "from google.colab import files\n",
        "uploaded = files.upload()\n",
        "\n",
        "for filename in uploaded.keys():\n",
        "    img = cv2.imread(filename)\n",
        "    img = cv2.resize(img, (128, 128))\n",
        "    img = cv2.cvtColor(img, cv2.COLOR_BGR2RGB)\n",
        "    img = img / 255.0  # Normalize\n",
        "    img = np.expand_dims(img, axis=0)  # Add batch dimension\n",
        "\n",
        "    prediction = model.predict(img)\n",
        "    result = \"Defected\" if prediction[0][0] > 0.5 else \"No Defected\"\n",
        "\n",
        "    plt.imshow(cv2.imread(filename))\n",
        "    plt.title(f\"Predicted: {result}\")\n",
        "    plt.axis(\"off\")\n",
        "    plt.show()\n"
      ]
    },
    {
      "cell_type": "code",
      "execution_count": null,
      "metadata": {
        "colab": {
          "base_uri": "https://localhost:8080/"
        },
        "id": "w2GL1HP09--l",
        "outputId": "993ef58e-dfb8-40a9-b8fa-f34924f010b7"
      },
      "outputs": [
        {
          "name": "stdout",
          "output_type": "stream",
          "text": [
            "\u001b[1m10/10\u001b[0m \u001b[32m━━━━━━━━━━━━━━━━━━━━\u001b[0m\u001b[37m\u001b[0m \u001b[1m4s\u001b[0m 437ms/step - accuracy: 1.0000 - loss: 9.0465e-06\n",
            "\n",
            "Test Accuracy: 1.0000\n",
            "Test Loss: 0.0000\n"
          ]
        }
      ],
      "source": [
        "test_loss, test_acc = model.evaluate(X_test, y_test)\n",
        "print(f\"\\nTest Accuracy: {test_acc:.4f}\")\n",
        "print(f\"Test Loss: {test_loss:.4f}\")\n"
      ]
    },
    {
      "cell_type": "code",
      "execution_count": null,
      "metadata": {
        "colab": {
          "base_uri": "https://localhost:8080/"
        },
        "id": "q83wCijT-nAc",
        "outputId": "1b12d3de-e42f-48bb-9d73-48fca651bb1b"
      },
      "outputs": [
        {
          "name": "stdout",
          "output_type": "stream",
          "text": [
            "\u001b[1m10/10\u001b[0m \u001b[32m━━━━━━━━━━━━━━━━━━━━\u001b[0m\u001b[37m\u001b[0m \u001b[1m4s\u001b[0m 345ms/step - accuracy: 1.0000 - loss: 9.0465e-06\n"
          ]
        }
      ],
      "source": [
        "model_1= model.evaluate(X_test, y_test)"
      ]
    },
    {
      "cell_type": "code",
      "execution_count": null,
      "metadata": {
        "colab": {
          "base_uri": "https://localhost:8080/"
        },
        "id": "ydoXDRxE-ymI",
        "outputId": "45b05f28-f341-4f07-f716-c2f58a4da1b6"
      },
      "outputs": [
        {
          "name": "stdout",
          "output_type": "stream",
          "text": [
            "\u001b[1m10/10\u001b[0m \u001b[32m━━━━━━━━━━━━━━━━━━━━\u001b[0m\u001b[37m\u001b[0m \u001b[1m3s\u001b[0m 236ms/step\n"
          ]
        }
      ],
      "source": [
        "y_pred= model.predict(X_test)"
      ]
    },
    {
      "cell_type": "code",
      "execution_count": null,
      "metadata": {
        "colab": {
          "base_uri": "https://localhost:8080/"
        },
        "id": "KLbVSofx_jtk",
        "outputId": "2c86435a-e213-47dd-ffba-79149a45b02b"
      },
      "outputs": [
        {
          "name": "stdout",
          "output_type": "stream",
          "text": [
            "\u001b[1m10/10\u001b[0m \u001b[32m━━━━━━━━━━━━━━━━━━━━\u001b[0m\u001b[37m\u001b[0m \u001b[1m3s\u001b[0m 235ms/step\n"
          ]
        }
      ],
      "source": [
        "y_pred = model.predict(X_test)\n",
        "y_pred_labels = (y_pred > 0.5).astype(int)"
      ]
    },
    {
      "cell_type": "markdown",
      "metadata": {
        "id": "dHgALar5AUUU"
      },
      "source": [
        "0 → Not Defected (No Defect) ✅\n",
        "1 → Defected (Has a Crack or Defect) ❌"
      ]
    },
    {
      "cell_type": "code",
      "execution_count": null,
      "metadata": {
        "colab": {
          "base_uri": "https://localhost:8080/"
        },
        "id": "0DJ2XLE-_5Yq",
        "outputId": "937628a4-040c-4e14-f6d2-dcbc823bcd8a"
      },
      "outputs": [
        {
          "name": "stdout",
          "output_type": "stream",
          "text": [
            "\u001b[1m10/10\u001b[0m \u001b[32m━━━━━━━━━━━━━━━━━━━━\u001b[0m\u001b[37m\u001b[0m \u001b[1m3s\u001b[0m 255ms/step - accuracy: 1.0000 - loss: 9.0465e-06\n",
            "\n",
            "Test Accuracy: 1.0000\n",
            "Test Loss: 0.0000\n"
          ]
        }
      ],
      "source": [
        "test_loss, test_acc = model.evaluate(X_test, y_test)\n",
        "print(f\"\\nTest Accuracy: {test_acc:.4f}\")\n",
        "print(f\"Test Loss: {test_loss:.4f}\")\n"
      ]
    },
    {
      "cell_type": "code",
      "execution_count": null,
      "metadata": {
        "id": "DMkmQZZeMw7x"
      },
      "outputs": [],
      "source": []
    }
  ],
  "metadata": {
    "colab": {
      "provenance": []
    },
    "kernelspec": {
      "display_name": "Python 3",
      "name": "python3"
    },
    "language_info": {
      "name": "python"
    }
  },
  "nbformat": 4,
  "nbformat_minor": 0
}
